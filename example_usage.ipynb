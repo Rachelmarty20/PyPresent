{
 "cells": [
  {
   "cell_type": "markdown",
   "metadata": {},
   "source": [
    "##Example usage of PyPresent code"
   ]
  },
  {
   "cell_type": "markdown",
   "metadata": {},
   "source": [
    "Move into the PyPresent directory"
   ]
  },
  {
   "cell_type": "code",
   "execution_count": 1,
   "metadata": {},
   "outputs": [],
   "source": [
    "import sys\n",
    "sys.path.append('/cellar/users/ramarty/Projects/pypresent/')"
   ]
  },
  {
   "cell_type": "markdown",
   "metadata": {},
   "source": [
    "Import the necessary modules"
   ]
  },
  {
   "cell_type": "code",
   "execution_count": 2,
   "metadata": {
    "collapsed": true
   },
   "outputs": [],
   "source": [
    "from mutation import Mutation\n",
    "from allele import Allele\n",
    "from patient import Patient"
   ]
  },
  {
   "cell_type": "markdown",
   "metadata": {},
   "source": [
    "###Create a mutation object <br>\n",
    "This object represents the mutated residue that could be presented. There are **two** ways to import the sequence:"
   ]
  },
  {
   "cell_type": "markdown",
   "metadata": {},
   "source": [
    "**Example mutation:**<br>\n",
    "* Gene: OR5AC1 <br>\n",
    "* Mutated position: 20 <br>\n",
    "* Native amino acid: X <br>\n",
    "* New amino acid: 'K' <br>"
   ]
  },
  {
   "cell_type": "code",
   "execution_count": 3,
   "metadata": {},
   "outputs": [],
   "source": [
    "# 1. Fasta file\n",
    "mut = Mutation(20, 'K', from_file=True, gene_fasta_file='./data/protein.fa', id='OR5AC1_X20K')"
   ]
  },
  {
   "cell_type": "code",
   "execution_count": 4,
   "metadata": {},
   "outputs": [],
   "source": [
    "# 2. Directly with a string\n",
    "from Bio import SeqIO\n",
    "fasta_sequences = SeqIO.parse(open('./data/protein.fa'),'fasta')\n",
    "sequence = str(fasta_sequences.next().seq)\n",
    "mut = Mutation(20, 'K', from_file=False, gene_sequence=sequence, native_aa='P', id='OR5AC1_X20K')"
   ]
  },
  {
   "cell_type": "markdown",
   "metadata": {},
   "source": [
    "###Create an allele object <br>\n",
    "This object represents a single MHC-I or MHC-II allele. Only create an allele object if you want a single-allelic score."
   ]
  },
  {
   "cell_type": "code",
   "execution_count": 5,
   "metadata": {},
   "outputs": [],
   "source": [
    "aI = Allele('HLA-A01:01', mhc_class='I')"
   ]
  },
  {
   "cell_type": "code",
   "execution_count": 6,
   "metadata": {
    "collapsed": true
   },
   "outputs": [],
   "source": [
    "aII = Allele('DRB1_1114', mhc_class='II')"
   ]
  },
  {
   "cell_type": "markdown",
   "metadata": {},
   "source": [
    "Call single-allelic score"
   ]
  },
  {
   "cell_type": "code",
   "execution_count": 7,
   "metadata": {},
   "outputs": [
    {
     "data": {
      "text/plain": [
       "0.25"
      ]
     },
     "execution_count": 7,
     "metadata": {},
     "output_type": "execute_result"
    }
   ],
   "source": [
    "aI.allele_score(mut)"
   ]
  },
  {
   "cell_type": "code",
   "execution_count": 8,
   "metadata": {},
   "outputs": [
    {
     "data": {
      "text/plain": [
       "46.0"
      ]
     },
     "execution_count": 8,
     "metadata": {},
     "output_type": "execute_result"
    }
   ],
   "source": [
    "aII.allele_score(mut)"
   ]
  },
  {
   "cell_type": "markdown",
   "metadata": {},
   "source": [
    "###Create a patient object <br>\n",
    "This object represents a patient and is defined by all of their MHC-I and/or MHC-II alleles.. "
   ]
  },
  {
   "cell_type": "code",
   "execution_count": 9,
   "metadata": {},
   "outputs": [],
   "source": [
    "allelesI = ['HLA-A11:01', 'HLA-A31:35', 'HLA-B07:02', 'HLA-B40:30', 'HLA-C06:19', 'HLA-C07:07']\n",
    "allelesII = ['DRB1_1114', 'DRB1_1301', 'DRB1_1114', 'DRB1_1301', \\\n",
    "             'HLA-DQA10511-DQB10308', 'HLA-DQA10509-DQB10628', \\\n",
    "             'HLA-DQA10511-DQB10628', 'HLA-DQA10509-DQB10308', \\\n",
    "             'HLA-DPA10301-DPB19201', 'HLA-DPA10103-DPB13401', \\\n",
    "             'HLA-DPA10301-DPB13401', 'HLA-DPA10103-DPB19201']\n",
    "p = Patient(allelesI, allelesII)"
   ]
  },
  {
   "cell_type": "markdown",
   "metadata": {},
   "source": [
    "Call multi-allelic score"
   ]
  },
  {
   "cell_type": "code",
   "execution_count": 10,
   "metadata": {
    "scrolled": false
   },
   "outputs": [
    {
     "data": {
      "text/plain": [
       "1.8100886978288078"
      ]
     },
     "execution_count": 10,
     "metadata": {},
     "output_type": "execute_result"
    }
   ],
   "source": [
    "p.patient_score(mut, mhc_class='I')"
   ]
  },
  {
   "cell_type": "code",
   "execution_count": 11,
   "metadata": {},
   "outputs": [
    {
     "data": {
      "text/plain": [
       "5.379553477358237"
      ]
     },
     "execution_count": 11,
     "metadata": {},
     "output_type": "execute_result"
    }
   ],
   "source": [
    "p.patient_score(mut, mhc_class='II')"
   ]
  },
  {
   "cell_type": "markdown",
   "metadata": {},
   "source": [
    "####Warning: netMHCpan/netMHCIIpan leave residual files. Be sure to delete your temparary directory after running. "
   ]
  },
  {
   "cell_type": "code",
   "execution_count": 12,
   "metadata": {
    "collapsed": true
   },
   "outputs": [],
   "source": [
    "# add removal statement\n",
    "! rm /cellar/users/ramarty/Data/pypresent/tmp/*"
   ]
  },
  {
   "cell_type": "code",
   "execution_count": null,
   "metadata": {
    "collapsed": true
   },
   "outputs": [],
   "source": []
  }
 ],
 "metadata": {
  "kernelspec": {
   "display_name": "Python 2",
   "language": "python",
   "name": "python2"
  },
  "language_info": {
   "codemirror_mode": {
    "name": "ipython",
    "version": 2
   },
   "file_extension": ".py",
   "mimetype": "text/x-python",
   "name": "python",
   "nbconvert_exporter": "python",
   "pygments_lexer": "ipython2",
   "version": "2.7.15"
  }
 },
 "nbformat": 4,
 "nbformat_minor": 1
}
